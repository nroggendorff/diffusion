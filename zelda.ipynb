{
 "cells": [
  {
   "cell_type": "code",
   "execution_count": null,
   "id": "a00024a7-3761-4e53-9e4e-38b15a24fb93",
   "metadata": {
    "tags": []
   },
   "outputs": [],
   "source": [
    "!pip install -r requirements.txt"
   ]
  },
  {
   "cell_type": "code",
   "execution_count": null,
   "id": "8cbb82ea-8ac7-4324-b921-1fb41808cf2c",
   "metadata": {
    "tags": []
   },
   "outputs": [],
   "source": [
    "from accelerate.utils import write_basic_config\n",
    "\n",
    "write_basic_config()"
   ]
  },
  {
   "cell_type": "code",
   "execution_count": null,
   "id": "ff0f59df-509e-4e5a-961d-0d9970249235",
   "metadata": {
    "tags": []
   },
   "outputs": [],
   "source": [
    "!accelerate launch train.py --mixed_precision \"fp16\" --gradient_accumulation_steps 1 --learning_rate \"1e-02\" --gradient_checkpointing --max_grad_norm 1 --checkpointing_steps 100000 --max_train_steps=15000 --use_ema --lr_scheduler \"constant\" --lr_warmup_steps 0 --center_crop --random_flip --pretrained_model_name_or_path \"runwayml/stable-diffusion-v1-5\" --dataset_name \"nroggendorff/zelda\" --resolution 512 --train_batch_size 1 --output_dir \"sd-zelda-model\""
   ]
  },
  {
   "cell_type": "code",
   "execution_count": null,
   "id": "fb811021-5f43-4193-95d1-f149f9d359ba",
   "metadata": {
    "tags": []
   },
   "outputs": [],
   "source": [
    "from huggingface_hub import upload_folder, notebook_login, create_repo"
   ]
  },
  {
   "cell_type": "code",
   "execution_count": null,
   "id": "661b7e44-6190-4348-a7c1-05bb800aa29a",
   "metadata": {
    "tags": []
   },
   "outputs": [],
   "source": [
    "notebook_login()"
   ]
  },
  {
   "cell_type": "code",
   "execution_count": null,
   "id": "c961a7b6-3428-42a8-afbf-0ce629642072",
   "metadata": {
    "tags": []
   },
   "outputs": [],
   "source": [
    "repo_id = create_repo(\n",
    "    repo_id=\"nroggendorff/zelda-diffusion\", exist_ok=True\n",
    ").repo_id"
   ]
  },
  {
   "cell_type": "code",
   "execution_count": null,
   "id": "1862e27a-6d24-48ab-9626-4e1219a53963",
   "metadata": {
    "tags": []
   },
   "outputs": [],
   "source": [
    "upload_folder(\n",
    "    repo_id=repo_id,\n",
    "    folder_path=\"sd-zelda-model\",\n",
    "    commit_message=f\"Steps 10k\",\n",
    "    ignore_patterns=[\"step_*\", \"epoch_*\"],\n",
    ")"
   ]
  },
  {
   "cell_type": "code",
   "execution_count": null,
   "id": "98c8bd67-c78c-456b-a913-0123fccad040",
   "metadata": {
    "tags": []
   },
   "outputs": [],
   "source": [
    "from diffusers import StableDiffusionPipeline\n",
    "import torch\n",
    "\n",
    "pipeline = StableDiffusionPipeline.from_pretrained(\"sd-zelda-model\", torch_dtype=torch.float16, use_safetensors=True).to(\"cuda\")\n",
    "\n",
    "image = pipeline(prompt=\"a woman holding a sword\").images[0]\n",
    "image.save(\"zelda.png\")"
   ]
  }
 ],
 "metadata": {
  "kernelspec": {
   "display_name": "Python 3 (ipykernel)",
   "language": "python",
   "name": "python3"
  },
  "language_info": {
   "codemirror_mode": {
    "name": "ipython",
    "version": 3
   },
   "file_extension": ".py",
   "mimetype": "text/x-python",
   "name": "python",
   "nbconvert_exporter": "python",
   "pygments_lexer": "ipython3",
   "version": "3.9.5"
  }
 },
 "nbformat": 4,
 "nbformat_minor": 5
}
